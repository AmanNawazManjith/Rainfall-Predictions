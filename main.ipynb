{
 "cells": [
  {
   "cell_type": "markdown",
   "metadata": {},
   "source": [
    "## Importing the libraries"
   ]
  },
  {
   "cell_type": "code",
   "execution_count": 1,
   "metadata": {},
   "outputs": [],
   "source": [
    "import matplotlib\n",
    "import pandas as pd\n",
    "import numpy as np\n",
    "import sklearn as sk\n",
    "from sklearn.linear_model import LinearRegression\n",
    "import sklearn.metrics as metrics\n",
    "import matplotlib.pyplot as plt"
   ]
  },
  {
   "cell_type": "markdown",
   "metadata": {},
   "source": [
    "## Reading the cleaned data"
   ]
  },
  {
   "cell_type": "code",
   "execution_count": 2,
   "metadata": {},
   "outputs": [],
   "source": [
    "data = pd.read_csv(\"austin_final.csv\")\n",
    "\n",
    "X = data.drop([\"PrecipitationSumInches\"], axis=1)\n",
    "\n",
    "Y = data[\"PrecipitationSumInches\"]\n",
    "Y = Y.values.reshape(-1, 1)\n",
    "\n",
    "day_index = 798\n",
    "days = [i for i in range(Y.size)]"
   ]
  },
  {
   "cell_type": "markdown",
   "metadata": {},
   "source": [
    "## Split the data into training/testing set"
   ]
  },
  {
   "cell_type": "code",
   "execution_count": 3,
   "metadata": {},
   "outputs": [],
   "source": [
    "from sklearn.model_selection import train_test_split\n",
    "\n",
    "X_train, X_test, y_train, y_test = train_test_split(\n",
    "    X, Y, test_size=0.3, random_state=101\n",
    ")"
   ]
  },
  {
   "cell_type": "markdown",
   "metadata": {},
   "source": [
    "## Training the sets"
   ]
  },
  {
   "cell_type": "code",
   "execution_count": 4,
   "metadata": {},
   "outputs": [
    {
     "data": {
      "text/plain": [
       "LinearRegression()"
      ]
     },
     "execution_count": 4,
     "metadata": {},
     "output_type": "execute_result"
    }
   ],
   "source": [
    "clf = LinearRegression()\n",
    "clf.fit(X_train, y_train)"
   ]
  },
  {
   "cell_type": "markdown",
   "metadata": {},
   "source": [
    "## Printing out the coefficients"
   ]
  },
  {
   "cell_type": "code",
   "execution_count": 5,
   "metadata": {},
   "outputs": [
    {
     "name": "stdout",
     "output_type": "stream",
     "text": [
      "[[ 1.69572021e-05  1.00886780e-02 -1.36656194e-02  6.66200795e-03\n",
      "   1.27802458e-02 -2.48793037e-02  1.14327429e-02  2.84189191e-03\n",
      "  -1.01679928e-02  9.57333995e-03 -5.63567093e-03  9.08337829e-02\n",
      "  -7.45811153e-02 -1.43599042e-02  1.42499072e-02 -2.68772300e-02\n",
      "   7.84215689e-03]]\n"
     ]
    }
   ],
   "source": [
    "print(clf.coef_)"
   ]
  },
  {
   "cell_type": "markdown",
   "metadata": {},
   "source": [
    "## Making predictions using test data"
   ]
  },
  {
   "cell_type": "code",
   "execution_count": 6,
   "metadata": {},
   "outputs": [],
   "source": [
    "predictions = clf.predict(X_test)"
   ]
  },
  {
   "cell_type": "markdown",
   "metadata": {},
   "source": [
    "## Prediction Plot"
   ]
  },
  {
   "cell_type": "code",
   "execution_count": 7,
   "metadata": {},
   "outputs": [
    {
     "data": {
      "image/png": "[encoded data removed]",
      "text/plain": [
       "<Figure size 432x288 with 1 Axes>"
      ]
     },
     "metadata": {
      "needs_background": "light"
     },
     "output_type": "display_data"
    }
   ],
   "source": [
    "plt.scatter( predictions,y_test, color=\"blue\")\n",
    "plt.ylabel(\"PrecipitationSumInches\")\n",
    "plt.xlabel(\"Predicted\")\n",
    "plt.show()"
   ]
  },
  {
   "cell_type": "markdown",
   "metadata": {},
   "source": [
    "### Sample Input"
   ]
  },
  {
   "cell_type": "code",
   "execution_count": 8,
   "metadata": {},
   "outputs": [],
   "source": [
    "\n",
    "inp = np.array(\n",
    "    [\n",
    "        [74],\n",
    "        [60],\n",
    "        [45],\n",
    "        [67],\n",
    "        [49],\n",
    "        [43],\n",
    "        [33],\n",
    "        [45],\n",
    "        [57],\n",
    "        [29.68],\n",
    "        [10],\n",
    "        [7],\n",
    "        [2],\n",
    "        [0],\n",
    "        [20],\n",
    "        [4],\n",
    "        [31],\n",
    "    ]\n",
    ")\n",
    "\n",
    "inp = inp.reshape(1, -1)"
   ]
  },
  {
   "cell_type": "markdown",
   "metadata": {},
   "source": [
    "### Output Plot"
   ]
  },
  {
   "cell_type": "code",
   "execution_count": 9,
   "metadata": {},
   "outputs": [
    {
     "name": "stdout",
     "output_type": "stream",
     "text": [
      "The precipitation in inches for the input is: [[0.7623258]]\n",
      "The precipitation trend graph: \n"
     ]
    },
    {
     "data": {
      "image/png": "[encoded data removed]",
      "text/plain": [
       "<Figure size 432x288 with 1 Axes>"
      ]
     },
     "metadata": {
      "needs_background": "light"
     },
     "output_type": "display_data"
    }
   ],
   "source": [
    "print(\"The precipitation in inches for the input is:\", clf.predict(inp))\n",
    "\n",
    "print(\"The precipitation trend graph: \")\n",
    "plt.scatter(days, Y, color=\"orange\")\n",
    "plt.scatter(days[day_index], Y[day_index], color=\"red\")\n",
    "plt.title(\"Precipitation level\")\n",
    "plt.xlabel(\"Days\")\n",
    "plt.ylabel(\"Precipitation in inches\")\n",
    "plt.show()"
   ]
  },
  {
   "cell_type": "markdown",
   "metadata": {},
   "source": [
    "### Filtering the data"
   ]
  },
  {
   "cell_type": "code",
   "execution_count": 10,
   "metadata": {},
   "outputs": [],
   "source": [
    "x_f = X.filter(\n",
    "    [\n",
    "        \"TempAvgF\",\n",
    "        \"DewPointAvgF\",\n",
    "        \"HumidityAvgPercent\",\n",
    "        \"SeaLevelPressureAvgInches\",\n",
    "        \"VisibilityAvgMiles\",\n",
    "        \"WindAvgMPH\",\n",
    "    ],\n",
    "    axis=1,\n",
    ")"
   ]
  },
  {
   "cell_type": "markdown",
   "metadata": {},
   "source": [
    "### Filtered Output Plot"
   ]
  },
  {
   "cell_type": "code",
   "execution_count": 11,
   "metadata": {},
   "outputs": [
    {
     "name": "stdout",
     "output_type": "stream",
     "text": [
      "Preciptiation Vs Selected Attributes Graph: \n"
     ]
    },
    {
     "data": {
      "image/png": "[encoded data removed]",
      "text/plain": [
       "<Figure size 432x288 with 1 Axes>"
      ]
     },
     "metadata": {
      "needs_background": "light"
     },
     "output_type": "display_data"
    },
    {
     "data": {
      "image/png": "[encoded data removed]",
      "text/plain": [
       "<Figure size 432x288 with 1 Axes>"
      ]
     },
     "metadata": {
      "needs_background": "light"
     },
     "output_type": "display_data"
    },
    {
     "data": {
      "image/png": "[encoded data removed]",
      "text/plain": [
       "<Figure size 432x288 with 1 Axes>"
      ]
     },
     "metadata": {
      "needs_background": "light"
     },
     "output_type": "display_data"
    },
    {
     "data": {
      "image/png": "[encoded data removed]",
      "text/plain": [
       "<Figure size 432x288 with 1 Axes>"
      ]
     },
     "metadata": {
      "needs_background": "light"
     },
     "output_type": "display_data"
    },
    {
     "data": {
      "image/png": "[encoded data removed]",
      "text/plain": [
       "<Figure size 432x288 with 1 Axes>"
      ]
     },
     "metadata": {
      "needs_background": "light"
     },
     "output_type": "display_data"
    },
    {
     "data": {
      "image/png": "[encoded data removed]",
      "text/plain": [
       "<Figure size 432x288 with 1 Axes>"
      ]
     },
     "metadata": {
      "needs_background": "light"
     },
     "output_type": "display_data"
    }
   ],
   "source": [
    "print(\"Preciptiation Vs Selected Attributes Graph: \")\n",
    "for i in range(x_f.columns.size):\n",
    "    plt.subplot(2, 3, i + 1)\n",
    "    plt.scatter(days, x_f[x_f.columns.values[i][:50]], color=\"g\")\n",
    "    plt.scatter(days[day_index], x_f[x_f.columns.values[i]][day_index], color=\"r\")\n",
    "    plt.xlabel(\"Days\")\n",
    "    plt.ylabel(x_f.columns[i])\n",
    "    plt.show()"
   ]
  },
  {
   "cell_type": "markdown",
   "metadata": {},
   "source": [
    "## Error Metrics"
   ]
  },
  {
   "cell_type": "code",
   "execution_count": 12,
   "metadata": {},
   "outputs": [
    {
     "name": "stdout",
     "output_type": "stream",
     "text": [
      "MAE: 0.1702775044870563\n",
      "MSE: 0.1943291800010856\n",
      "RMSE: 0.44082783487557314\n"
     ]
    }
   ],
   "source": [
    "print(\"MAE: {}\".format(metrics.mean_absolute_error(y_test, predictions)))\n",
    "print(\"MSE: {}\".format(metrics.mean_squared_error(y_test, predictions)))\n",
    "print(\"RMSE: {}\".format(np.sqrt(metrics.mean_squared_error(y_test, predictions))))"
   ]
  },
  {
   "cell_type": "markdown",
   "metadata": {},
   "source": [
    "## Coefficients"
   ]
  },
  {
   "cell_type": "code",
   "execution_count": 13,
   "metadata": {},
   "outputs": [
    {
     "data": {
      "text/html": [
       "<div>\n",
       "<style scoped>\n",
       "    .dataframe tbody tr th:only-of-type {\n",
       "        vertical-align: middle;\n",
       "    }\n",
       "\n",
       "    .dataframe tbody tr th {\n",
       "        vertical-align: top;\n",
       "    }\n",
       "\n",
       "    .dataframe thead th {\n",
       "        text-align: right;\n",
       "    }\n",
       "</style>\n",
       "<table border=\"1\" class=\"dataframe\">\n",
       "  <thead>\n",
       "    <tr style=\"text-align: right;\">\n",
       "      <th></th>\n",
       "      <th>Coeffecient</th>\n",
       "    </tr>\n",
       "  </thead>\n",
       "  <tbody>\n",
       "    <tr>\n",
       "      <th>Unnamed: 0</th>\n",
       "      <td>0.000017</td>\n",
       "    </tr>\n",
       "    <tr>\n",
       "      <th>TempHighF</th>\n",
       "      <td>0.010089</td>\n",
       "    </tr>\n",
       "    <tr>\n",
       "      <th>TempAvgF</th>\n",
       "      <td>-0.013666</td>\n",
       "    </tr>\n",
       "    <tr>\n",
       "      <th>TempLowF</th>\n",
       "      <td>0.006662</td>\n",
       "    </tr>\n",
       "    <tr>\n",
       "      <th>DewPointHighF</th>\n",
       "      <td>0.012780</td>\n",
       "    </tr>\n",
       "    <tr>\n",
       "      <th>DewPointAvgF</th>\n",
       "      <td>-0.024879</td>\n",
       "    </tr>\n",
       "    <tr>\n",
       "      <th>DewPointLowF</th>\n",
       "      <td>0.011433</td>\n",
       "    </tr>\n",
       "    <tr>\n",
       "      <th>HumidityHighPercent</th>\n",
       "      <td>0.002842</td>\n",
       "    </tr>\n",
       "    <tr>\n",
       "      <th>HumidityAvgPercent</th>\n",
       "      <td>-0.010168</td>\n",
       "    </tr>\n",
       "    <tr>\n",
       "      <th>HumidityLowPercent</th>\n",
       "      <td>0.009573</td>\n",
       "    </tr>\n",
       "    <tr>\n",
       "      <th>SeaLevelPressureAvgInches</th>\n",
       "      <td>-0.005636</td>\n",
       "    </tr>\n",
       "    <tr>\n",
       "      <th>VisibilityHighMiles</th>\n",
       "      <td>0.090834</td>\n",
       "    </tr>\n",
       "    <tr>\n",
       "      <th>VisibilityAvgMiles</th>\n",
       "      <td>-0.074581</td>\n",
       "    </tr>\n",
       "    <tr>\n",
       "      <th>VisibilityLowMiles</th>\n",
       "      <td>-0.014360</td>\n",
       "    </tr>\n",
       "    <tr>\n",
       "      <th>WindHighMPH</th>\n",
       "      <td>0.014250</td>\n",
       "    </tr>\n",
       "    <tr>\n",
       "      <th>WindAvgMPH</th>\n",
       "      <td>-0.026877</td>\n",
       "    </tr>\n",
       "    <tr>\n",
       "      <th>WindGustMPH</th>\n",
       "      <td>0.007842</td>\n",
       "    </tr>\n",
       "  </tbody>\n",
       "</table>\n",
       "</div>"
      ],
      "text/plain": [
       "                           Coeffecient\n",
       "Unnamed: 0                    0.000017\n",
       "TempHighF                     0.010089\n",
       "TempAvgF                     -0.013666\n",
       "TempLowF                      0.006662\n",
       "DewPointHighF                 0.012780\n",
       "DewPointAvgF                 -0.024879\n",
       "DewPointLowF                  0.011433\n",
       "HumidityHighPercent           0.002842\n",
       "HumidityAvgPercent           -0.010168\n",
       "HumidityLowPercent            0.009573\n",
       "SeaLevelPressureAvgInches    -0.005636\n",
       "VisibilityHighMiles           0.090834\n",
       "VisibilityAvgMiles           -0.074581\n",
       "VisibilityLowMiles           -0.014360\n",
       "WindHighMPH                   0.014250\n",
       "WindAvgMPH                   -0.026877\n",
       "WindGustMPH                   0.007842"
      ]
     },
     "execution_count": 13,
     "metadata": {},
     "output_type": "execute_result"
    }
   ],
   "source": [
    "pd.DataFrame(clf.coef_[0], X.columns, columns=['Coeffecient'])"
   ]
  },
  {
   "cell_type": "code",
   "execution_count": null,
   "metadata": {},
   "outputs": [],
   "source": []
  }
 ],
 "metadata": {
  "kernelspec": {
   "display_name": "Python 3",
   "language": "python",
   "name": "python3"
  },
  "language_info": {
   "codemirror_mode": {
    "name": "ipython",
    "version": 3
   },
   "file_extension": ".py",
   "mimetype": "text/x-python",
   "name": "python",
   "nbconvert_exporter": "python",
   "pygments_lexer": "ipython3",
   "version": "3.8.5"
  }
 },
 "nbformat": 4,
 "nbformat_minor": 5
}
